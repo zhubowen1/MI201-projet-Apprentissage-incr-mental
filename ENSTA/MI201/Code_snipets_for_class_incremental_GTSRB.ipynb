{
  "cells": [
    {
      "cell_type": "markdown",
      "source": [
        "\n",
        "\n",
        "---\n",
        "\n",
        "\n",
        "# Class incremental learning on the GTSRB dataset\n",
        "\n",
        "\n",
        "\n",
        "---\n",
        "\n",
        "\n",
        "This notebook contains several code snippets to help for your project:\n",
        "\n",
        "- data loaders\n",
        "- A baseline for incremental learning using fine-tuning\n",
        "- Examples of how to use Weight & Biases for logging your results.\n",
        "\n"
      ],
      "metadata": {
        "id": "ZQjHV8nwSu0E"
      }
    },
    {
      "cell_type": "code",
      "execution_count": 2,
      "metadata": {
        "id": "c6J4ap8k7k79"
      },
      "outputs": [],
      "source": [
        "####################################\n",
        "### Useful imports\n",
        "############################\n",
        "\n",
        "import torch\n",
        "import torch.nn as nn\n",
        "import torch.nn.init as init\n",
        "import torch.optim as optim\n",
        "import torch.nn.functional as F\n",
        "from torch.utils.data import DataLoader, ConcatDataset, Subset\n",
        "from torchvision.utils import make_grid\n",
        "from torchvision import transforms, datasets\n",
        "import torchvision.models as models\n",
        "from torchvision.transforms import v2\n",
        "import copy\n",
        "\n",
        "import numpy as np\n",
        "import random\n",
        "import time, os\n",
        "import matplotlib.pyplot as plt\n",
        "from PIL import Image\n",
        "from tqdm import tqdm\n",
        "import pandas as pd\n",
        "import math\n",
        "\n",
        "device = torch.device(\"cuda:0\" if torch.cuda.is_available() else \"cpu\")\n"
      ]
    },
    {
      "cell_type": "code",
      "execution_count": 3,
      "metadata": {
        "id": "BdBUgULZ-75F"
      },
      "outputs": [],
      "source": [
        "# # Useful if you want to store intermediate results on your drive\n",
        "# from google.colab import drive\n",
        "\n",
        "# # Useful if you want to store intermediate results on your drive from google.colab import drive\n",
        "\n",
        "# drive.mount('/content/gdrive/')\n",
        "# DATA_DIR =  '/content/gdrive/MyDrive/teaching/ENSTA/2024'\n"
      ]
    },
    {
      "cell_type": "code",
      "execution_count": 4,
      "metadata": {
        "id": "mLLmoj5nhhli",
        "colab": {
          "base_uri": "https://localhost:8080/"
        },
        "outputId": "32f3f1f5-f979-4f26-8ec8-e8ad5049edee"
      },
      "outputs": [
        {
          "output_type": "stream",
          "name": "stdout",
          "text": [
            "Wed Jan  8 21:25:25 2025       \n",
            "+---------------------------------------------------------------------------------------+\n",
            "| NVIDIA-SMI 535.104.05             Driver Version: 535.104.05   CUDA Version: 12.2     |\n",
            "|-----------------------------------------+----------------------+----------------------+\n",
            "| GPU  Name                 Persistence-M | Bus-Id        Disp.A | Volatile Uncorr. ECC |\n",
            "| Fan  Temp   Perf          Pwr:Usage/Cap |         Memory-Usage | GPU-Util  Compute M. |\n",
            "|                                         |                      |               MIG M. |\n",
            "|=========================================+======================+======================|\n",
            "|   0  Tesla T4                       Off | 00000000:00:04.0 Off |                    0 |\n",
            "| N/A   43C    P8              11W /  70W |      3MiB / 15360MiB |      0%      Default |\n",
            "|                                         |                      |                  N/A |\n",
            "+-----------------------------------------+----------------------+----------------------+\n",
            "                                                                                         \n",
            "+---------------------------------------------------------------------------------------+\n",
            "| Processes:                                                                            |\n",
            "|  GPU   GI   CI        PID   Type   Process name                            GPU Memory |\n",
            "|        ID   ID                                                             Usage      |\n",
            "|=======================================================================================|\n",
            "|  No running processes found                                                           |\n",
            "+---------------------------------------------------------------------------------------+\n"
          ]
        }
      ],
      "source": [
        "# Check if GPU is available\n",
        "if torch.cuda.is_available():\n",
        "  !nvidia-smi"
      ]
    },
    {
      "cell_type": "markdown",
      "source": [
        "## Data loaders"
      ],
      "metadata": {
        "id": "zdRoUYxVqicA"
      }
    },
    {
      "cell_type": "code",
      "execution_count": 5,
      "metadata": {
        "id": "5yjcnoUN7xVJ"
      },
      "outputs": [],
      "source": [
        "# Define transformations\n",
        "transform_train = transforms.Compose([\n",
        "    transforms.RandomResizedCrop(32),\n",
        "    transforms.RandomHorizontalFlip(),\n",
        "    transforms.ToTensor(),\n",
        "    #transforms.Normalize((0.3403, 0.3121, 0.3214), (0.2724, 0.2608, 0.2669)) # GTSRB stats\n",
        "])\n",
        "\n",
        "transform_test = transforms.Compose([\n",
        "    transforms.Resize(32),\n",
        "    transforms.ToTensor(),\n",
        "    #transforms.Normalize((0.3403, 0.3121, 0.3214), (0.2724, 0.2608, 0.2669))\n",
        "])\n",
        "\n",
        "transform_train = v2.Compose([\n",
        "    #v2.Grayscale(),\n",
        "    #v2.RandomResizedCrop(32),\n",
        "    v2.Resize((32,32)),\n",
        "    v2.ToImage(),\n",
        "    v2.ToDtype(torch.float32, scale=True),\n",
        "    #v2.Normalize((0.3403, 0.3121, 0.3214), (0.2724, 0.2608, 0.2669)) # GTSRB stats\n",
        "])\n",
        "\n",
        "transform_test = v2.Compose([\n",
        "    #v2.Grayscale(),\n",
        "    v2.Resize((32,32)),\n",
        "    v2.ToImage(),\n",
        "    v2.ToDtype(torch.float32, scale=True),\n",
        "    #v2.Normalize((0.3403, 0.3121, 0.3214), (0.2724, 0.2608, 0.2669)) # GTSRB stats\n",
        "])\n",
        "\n",
        "# Define dataset and dataloader\n",
        "def get_dataset(root_dir, transform, train=True):\n",
        "    dataset = datasets.GTSRB(root=root_dir, split='train' if train else 'test', download=True, transform=transform)\n",
        "    target = [data[1] for data in dataset]\n",
        "    return dataset, target\n",
        "\n",
        "def create_dataloader(dataset, targets, current_classes, batch_size, shuffle):\n",
        "    indices = [i for i, label in enumerate(targets) if label in current_classes]\n",
        "    subset = Subset(dataset, indices)\n",
        "    dataloader = DataLoader(subset, batch_size=batch_size, shuffle=shuffle)\n",
        "    return dataloader\n"
      ]
    },
    {
      "cell_type": "code",
      "source": [
        "# Loads datasets (on your local computer)\n",
        "root_dir = '/home/stephane/Documents/Onera/Cours/ENSTA/2025/data'\n",
        "\n",
        "# Loads datasets (on Colab local computer)\n",
        "root_dir = './data'\n",
        "\n",
        "train_dataset = datasets.GTSRB(root=root_dir, split='train', download=True, transform=transform_train)\n",
        "test_dataset = datasets.GTSRB(root=root_dir, split='test', download=True, transform=transform_test)\n",
        "\n",
        "print(f\"Train dataset contains {len(train_dataset)} images\")\n",
        "print(f\"Test dataset contains {len(test_dataset)} images\")\n",
        "\n",
        "# Loads target id lists (not in torchvision dataset)rm *.\n",
        "import csv\n",
        "! wget https://raw.githubusercontent.com/stepherbin/teaching/refs/heads/master/ENSTA/MI201/test_target.csv -O data/gtsrb/test_target.csv\n",
        "test_target=[]\n",
        "with open('data/gtsrb/test_target.csv') as f:\n",
        "    reader = csv.reader(f)\n",
        "    for row in reader:\n",
        "        test_target += [int(el) for el in row]\n",
        "\n",
        "! wget https://raw.githubusercontent.com/stepherbin/teaching/refs/heads/master/ENSTA/MI201/train_target.csv -O data/gtsrb/train_target.csv\n",
        "train_target=[]\n",
        "with open('data/gtsrb/train_target.csv') as f:\n",
        "    reader = csv.reader(f)\n",
        "    for row in reader:\n",
        "        train_target += [int(el) for el in row]\n",
        "\n",
        "# Loads class names (not in torchvision dataset)\n",
        "! wget https://raw.githubusercontent.com/stepherbin/teaching/refs/heads/master/ENSTA/MI201/signnames.csv -O data/gtsrb/signnames.csv\n",
        "classes = pd.read_csv('data/gtsrb/signnames.csv')\n",
        "class_names = []\n",
        "for i, row in classes.iterrows():\n",
        "    class_names.append(row[1])"
      ],
      "metadata": {
        "colab": {
          "base_uri": "https://localhost:8080/"
        },
        "id": "KbdRiiin8q6n",
        "outputId": "430e44d2-07c2-4bfa-c95e-73ddc0c2144d"
      },
      "execution_count": 6,
      "outputs": [
        {
          "output_type": "stream",
          "name": "stdout",
          "text": [
            "Downloading https://sid.erda.dk/public/archives/daaeac0d7ce1152aea9b61d9f1e19370/GTSRB-Training_fixed.zip to data/gtsrb/GTSRB-Training_fixed.zip\n"
          ]
        },
        {
          "output_type": "stream",
          "name": "stderr",
          "text": [
            "100%|██████████| 187M/187M [00:17<00:00, 10.6MB/s]\n"
          ]
        },
        {
          "output_type": "stream",
          "name": "stdout",
          "text": [
            "Extracting data/gtsrb/GTSRB-Training_fixed.zip to data/gtsrb\n",
            "Downloading https://sid.erda.dk/public/archives/daaeac0d7ce1152aea9b61d9f1e19370/GTSRB_Final_Test_Images.zip to data/gtsrb/GTSRB_Final_Test_Images.zip\n"
          ]
        },
        {
          "output_type": "stream",
          "name": "stderr",
          "text": [
            "100%|██████████| 89.0M/89.0M [00:04<00:00, 18.1MB/s]\n"
          ]
        },
        {
          "output_type": "stream",
          "name": "stdout",
          "text": [
            "Extracting data/gtsrb/GTSRB_Final_Test_Images.zip to data/gtsrb\n",
            "Downloading https://sid.erda.dk/public/archives/daaeac0d7ce1152aea9b61d9f1e19370/GTSRB_Final_Test_GT.zip to data/gtsrb/GTSRB_Final_Test_GT.zip\n"
          ]
        },
        {
          "output_type": "stream",
          "name": "stderr",
          "text": [
            "100%|██████████| 99.6k/99.6k [00:00<00:00, 205kB/s]\n"
          ]
        },
        {
          "output_type": "stream",
          "name": "stdout",
          "text": [
            "Extracting data/gtsrb/GTSRB_Final_Test_GT.zip to data/gtsrb\n",
            "Train dataset contains 26640 images\n",
            "Test dataset contains 12630 images\n",
            "--2025-01-08 21:26:02--  https://raw.githubusercontent.com/stepherbin/teaching/refs/heads/master/ENSTA/MI201/test_target.csv\n",
            "Resolving raw.githubusercontent.com (raw.githubusercontent.com)... 185.199.108.133, 185.199.109.133, 185.199.111.133, ...\n",
            "Connecting to raw.githubusercontent.com (raw.githubusercontent.com)|185.199.108.133|:443... connected.\n",
            "HTTP request sent, awaiting response... 200 OK\n",
            "Length: 33090 (32K) [text/plain]\n",
            "Saving to: ‘data/gtsrb/test_target.csv’\n",
            "\n",
            "data/gtsrb/test_tar 100%[===================>]  32.31K  --.-KB/s    in 0.007s  \n",
            "\n",
            "2025-01-08 21:26:02 (4.47 MB/s) - ‘data/gtsrb/test_target.csv’ saved [33090/33090]\n",
            "\n",
            "--2025-01-08 21:26:02--  https://raw.githubusercontent.com/stepherbin/teaching/refs/heads/master/ENSTA/MI201/train_target.csv\n",
            "Resolving raw.githubusercontent.com (raw.githubusercontent.com)... 185.199.108.133, 185.199.109.133, 185.199.110.133, ...\n",
            "Connecting to raw.githubusercontent.com (raw.githubusercontent.com)|185.199.108.133|:443... connected.\n",
            "HTTP request sent, awaiting response... 200 OK\n",
            "Length: 70020 (68K) [text/plain]\n",
            "Saving to: ‘data/gtsrb/train_target.csv’\n",
            "\n",
            "data/gtsrb/train_ta 100%[===================>]  68.38K  --.-KB/s    in 0.01s   \n",
            "\n",
            "2025-01-08 21:26:03 (4.82 MB/s) - ‘data/gtsrb/train_target.csv’ saved [70020/70020]\n",
            "\n",
            "--2025-01-08 21:26:03--  https://raw.githubusercontent.com/stepherbin/teaching/refs/heads/master/ENSTA/MI201/signnames.csv\n",
            "Resolving raw.githubusercontent.com (raw.githubusercontent.com)... 185.199.108.133, 185.199.109.133, 185.199.110.133, ...\n",
            "Connecting to raw.githubusercontent.com (raw.githubusercontent.com)|185.199.108.133|:443... connected.\n",
            "HTTP request sent, awaiting response... 200 OK\n",
            "Length: 999 [text/plain]\n",
            "Saving to: ‘data/gtsrb/signnames.csv’\n",
            "\n",
            "data/gtsrb/signname 100%[===================>]     999  --.-KB/s    in 0s      \n",
            "\n",
            "2025-01-08 21:26:03 (66.4 MB/s) - ‘data/gtsrb/signnames.csv’ saved [999/999]\n",
            "\n"
          ]
        },
        {
          "output_type": "stream",
          "name": "stderr",
          "text": [
            "<ipython-input-6-38080e7887fd>:34: FutureWarning: Series.__getitem__ treating keys as positions is deprecated. In a future version, integer keys will always be treated as labels (consistent with DataFrame behavior). To access a value by position, use `ser.iloc[pos]`\n",
            "  class_names.append(row[1])\n"
          ]
        }
      ]
    },
    {
      "cell_type": "markdown",
      "source": [
        "## Display of images"
      ],
      "metadata": {
        "id": "G9om6EjQqqVD"
      }
    },
    {
      "cell_type": "code",
      "execution_count": 7,
      "metadata": {
        "colab": {
          "base_uri": "https://localhost:8080/",
          "height": 454
        },
        "id": "IIrmJhgmcL8u",
        "outputId": "0283b193-0225-497b-c86e-225633d95bf6"
      },
      "outputs": [
        {
          "output_type": "display_data",
          "data": {
            "text/plain": [
              "<Figure size 640x480 with 1 Axes>"
            ],
            "image/png": "[encoded data removed]"
          },
          "metadata": {}
        },
        {
          "output_type": "stream",
          "name": "stdout",
          "text": [
            "torch.Size([64, 3, 32, 32])\n"
          ]
        }
      ],
      "source": [
        "nclasses = len(np.unique(train_target))\n",
        "all_classes = list(range(nclasses))\n",
        "#random.shuffle(all_classes)\n",
        "classes_per_task = 8\n",
        "current_classes = []\n",
        "\n",
        "task = 0\n",
        "task_classes = all_classes[task * classes_per_task : (task + 1) * classes_per_task]\n",
        "current_classes.extend(task_classes)\n",
        "batch_size = 64\n",
        "\n",
        "# Create data for first task\n",
        "train_loader = create_dataloader(train_dataset, train_target, current_classes, batch_size, shuffle = True)\n",
        "test_loader = create_dataloader(train_dataset, train_target, current_classes, batch_size, shuffle = True)\n",
        "\n",
        "# Displays a few examples\n",
        "def show(img):\n",
        "    npimg = img.numpy()\n",
        "    plt.imshow(np.transpose(npimg, (1,2,0)), interpolation='nearest')\n",
        "\n",
        "sample,targets = next(iter(train_loader))\n",
        "show(make_grid(sample))\n",
        "plt.show()\n",
        "\n",
        "print(sample.shape)     ## 64 is the batch\n",
        "                        ## 1 for grey values --  3 for RGB\n",
        "                        ## 32x32 for mage size (small here)\n"
      ]
    },
    {
      "cell_type": "code",
      "execution_count": 8,
      "metadata": {
        "colab": {
          "base_uri": "https://localhost:8080/"
        },
        "id": "RrkguKhbC4uo",
        "outputId": "7472a187-0d6e-48dc-a9c3-7b217e6db7e3"
      },
      "outputs": [
        {
          "output_type": "stream",
          "name": "stdout",
          "text": [
            "750 \t 2 \t Speed limit (50km/h)\n",
            "720 \t 1 \t Speed limit (30km/h)\n",
            "720 \t 13 \t Yield\n",
            "690 \t 38 \t Keep right\n",
            "690 \t 12 \t Priority road\n",
            "660 \t 4 \t Speed limit (70km/h)\n",
            "660 \t 10 \t No passing for vechiles over 3.5 metric tons\n",
            "630 \t 5 \t Speed limit (80km/h)\n",
            "480 \t 25 \t Road work\n",
            "480 \t 9 \t No passing\n",
            "450 \t 7 \t Speed limit (100km/h)\n",
            "450 \t 3 \t Speed limit (60km/h)\n",
            "450 \t 8 \t Speed limit (120km/h)\n",
            "420 \t 11 \t Right-of-way at the next intersection\n",
            "390 \t 18 \t General caution\n",
            "390 \t 35 \t Ahead only\n",
            "360 \t 17 \t No entry\n",
            "270 \t 14 \t Stop\n",
            "270 \t 31 \t Wild animals crossing\n",
            "210 \t 33 \t Turn right ahead\n",
            "210 \t 15 \t No vechiles\n",
            "180 \t 26 \t Traffic signals\n",
            "150 \t 16 \t Vechiles over 3.5 metric tons prohibited\n",
            "150 \t 23 \t Slippery road\n",
            "150 \t 30 \t Beware of ice/snow\n",
            "150 \t 28 \t Children crossing\n",
            "150 \t 6 \t End of speed limit (80km/h)\n",
            "120 \t 34 \t Turn left ahead\n",
            "120 \t 22 \t Bumpy road\n",
            "120 \t 36 \t Go straight or right\n",
            "90 \t 21 \t Double curve\n",
            "90 \t 20 \t Dangerous curve to the right\n",
            "90 \t 24 \t Road narrows on the right\n",
            "90 \t 29 \t Bicycles crossing\n",
            "90 \t 40 \t Roundabout mandatory\n",
            "90 \t 39 \t Keep left\n",
            "90 \t 42 \t End of no passing by vechiles over 3.5 metric tons\n",
            "60 \t 27 \t Pedestrians\n",
            "60 \t 32 \t End of all speed and passing limits\n",
            "60 \t 41 \t End of no passing\n",
            "60 \t 19 \t Dangerous curve to the left\n",
            "60 \t 0 \t Speed limit (20km/h)\n",
            "60 \t 37 \t Go straight or left\n"
          ]
        }
      ],
      "source": [
        "test_loader = create_dataloader(train_dataset, train_target, all_classes, batch_size, shuffle = True)\n",
        "\n",
        "# Get the data from the test set and computes statistics\n",
        "# gtsrbtest_gt = []\n",
        "# for _, targets in test_loader:\n",
        "#   gtsrbtest_gt += targets.numpy().tolist()\n",
        "# print(len(gtsrbtest_gt))\n",
        "\n",
        "from collections import Counter\n",
        "\n",
        "label_counts = Counter(test_target).most_common()\n",
        "for l, c in label_counts:\n",
        "    print(c, '\\t', l, '\\t', class_names[l])"
      ]
    },
    {
      "cell_type": "markdown",
      "source": [
        "## Simple networks"
      ],
      "metadata": {
        "id": "SPAkBgRiqyyf"
      }
    },
    {
      "cell_type": "code",
      "execution_count": 9,
      "metadata": {
        "id": "0z2ycNRS-xnq"
      },
      "outputs": [],
      "source": [
        "# Define a simple CNN model\n",
        "class SimpleCNN(nn.Module):\n",
        "    def __init__(self,n_out=10, n_in=1):\n",
        "        super().__init__()\n",
        "\n",
        "        # Put the layers here\n",
        "        self.conv1 = nn.Conv2d(n_in, 32, kernel_size=5, padding=2)\n",
        "        self.conv2 = nn.Conv2d(32, 64, kernel_size=3, padding=1)\n",
        "        self.conv3 = nn.Conv2d(64, 64, kernel_size=3, padding=1)\n",
        "\n",
        "        self.fc = nn.Linear(4096, n_out)\n",
        "\n",
        "    def forward(self, x):\n",
        "        x = F.leaky_relu(self.conv1(x)) ## l'image 1x32x32 devient 32x32x32\n",
        "        x = F.max_pool2d(x, kernel_size=2, stride=2) ## puis 32x16x16\n",
        "        x = F.leaky_relu(self.conv2(x)) ## puis devient 64x16x16\n",
        "        x = F.max_pool2d(x, kernel_size=2, stride=2) ## puis devient 64x8x8\n",
        "        x = F.leaky_relu(self.conv3(x)) ## pas de changement\n",
        "\n",
        "        x = x.view(-1,4096) ## 64x8x8 devient 4096\n",
        "\n",
        "        x = self.fc(x) ## on finit exactement de la même façon\n",
        "\n",
        "        return x\n",
        "\n",
        "# Another simple model (compare them using torchinfo below)\n",
        "class SimpleCNN2(nn.Module):\n",
        "    def __init__(self, n_out=10, n_in=1):\n",
        "        super(SimpleCNN2, self).__init__()\n",
        "        self.conv1 = nn.Conv2d(n_in, 32, kernel_size=3, padding=1)\n",
        "        self.conv2 = nn.Conv2d(32, 64, kernel_size=3, padding=1)\n",
        "        self.fc1 = nn.Linear(64 * 8 * 8, 128)\n",
        "        self.fc = nn.Linear(128, n_out)\n",
        "        self.pool = nn.MaxPool2d(2, 2)\n",
        "        self.relu = nn.ReLU()\n",
        "\n",
        "    def forward(self, x):\n",
        "        x = self.pool(self.relu(self.conv1(x)))\n",
        "        x = self.pool(self.relu(self.conv2(x)))\n",
        "        x = x.view(-1, 64 * 8 * 8)  # Flatten the tensor\n",
        "        x = self.relu(self.fc1(x))\n",
        "        x = self.fc(x)\n",
        "        return x"
      ]
    },
    {
      "cell_type": "code",
      "execution_count": 10,
      "metadata": {
        "colab": {
          "base_uri": "https://localhost:8080/"
        },
        "id": "_gIfiLiF-vhv",
        "outputId": "9b0e7f7f-bd16-4650-97c7-43b2a7aa4e1c"
      },
      "outputs": [
        {
          "output_type": "stream",
          "name": "stdout",
          "text": [
            "Collecting torchinfo\n",
            "  Downloading torchinfo-1.8.0-py3-none-any.whl.metadata (21 kB)\n",
            "Downloading torchinfo-1.8.0-py3-none-any.whl (23 kB)\n",
            "Installing collected packages: torchinfo\n",
            "Successfully installed torchinfo-1.8.0\n",
            "==========================================================================================\n",
            "Layer (type:depth-idx)                   Output Shape              Param #\n",
            "==========================================================================================\n",
            "SimpleCNN2                               [64, 10]                  --\n",
            "├─Conv2d: 1-1                            [64, 32, 32, 32]          896\n",
            "├─ReLU: 1-2                              [64, 32, 32, 32]          --\n",
            "├─MaxPool2d: 1-3                         [64, 32, 16, 16]          --\n",
            "├─Conv2d: 1-4                            [64, 64, 16, 16]          18,496\n",
            "├─ReLU: 1-5                              [64, 64, 16, 16]          --\n",
            "├─MaxPool2d: 1-6                         [64, 64, 8, 8]            --\n",
            "├─Linear: 1-7                            [64, 128]                 524,416\n",
            "├─ReLU: 1-8                              [64, 128]                 --\n",
            "├─Linear: 1-9                            [64, 10]                  1,290\n",
            "==========================================================================================\n",
            "Total params: 545,098\n",
            "Trainable params: 545,098\n",
            "Non-trainable params: 0\n",
            "Total mult-adds (M): 395.40\n",
            "==========================================================================================\n",
            "Input size (MB): 0.79\n",
            "Forward/backward pass size (MB): 25.24\n",
            "Params size (MB): 2.18\n",
            "Estimated Total Size (MB): 28.20\n",
            "==========================================================================================\n",
            "==========================================================================================\n",
            "Layer (type:depth-idx)                   Output Shape              Param #\n",
            "==========================================================================================\n",
            "SimpleCNN                                [64, 10]                  --\n",
            "├─Conv2d: 1-1                            [64, 32, 32, 32]          2,432\n",
            "├─Conv2d: 1-2                            [64, 64, 16, 16]          18,496\n",
            "├─Conv2d: 1-3                            [64, 64, 8, 8]            36,928\n",
            "├─Linear: 1-4                            [64, 10]                  40,970\n",
            "==========================================================================================\n",
            "Total params: 98,826\n",
            "Trainable params: 98,826\n",
            "Non-trainable params: 0\n",
            "Total mult-adds (M): 616.30\n",
            "==========================================================================================\n",
            "Input size (MB): 0.79\n",
            "Forward/backward pass size (MB): 27.27\n",
            "Params size (MB): 0.40\n",
            "Estimated Total Size (MB): 28.45\n",
            "==========================================================================================\n"
          ]
        }
      ],
      "source": [
        "!pip install torchinfo\n",
        "from torchinfo import summary\n",
        "\n",
        "model = SimpleCNN2(n_out=10, n_in=3)\n",
        "model.to(device)\n",
        "print(summary(model, input_size=(batch_size, 3, 32, 32)))\n",
        "\n",
        "model = SimpleCNN(n_out=10, n_in=3)\n",
        "model.to(device)\n",
        "print(summary(model, input_size=(batch_size, 3, 32, 32)))\n",
        "\n",
        "#print(model)"
      ]
    },
    {
      "cell_type": "markdown",
      "source": [
        "## Baseline for incremental learning"
      ],
      "metadata": {
        "id": "f04OhO2GkqzO"
      }
    },
    {
      "cell_type": "code",
      "execution_count": 11,
      "metadata": {
        "id": "WuVL2YbW4T_a"
      },
      "outputs": [],
      "source": [
        "from torch.optim import lr_scheduler\n",
        "import torch.nn.init as init\n",
        "\n",
        "# Evaluation\n",
        "def evaluate(model, test_loader, device):\n",
        "    model.eval()\n",
        "    correct = 0\n",
        "    total = 0\n",
        "    with torch.no_grad():\n",
        "        for images, labels in tqdm(test_loader, ncols=80):\n",
        "            images, labels = images.to(device), labels.to(device)\n",
        "            outputs = model(images)\n",
        "            _, predicted = torch.max(outputs.data, 1)\n",
        "            total += labels.size(0)\n",
        "            correct += (predicted == labels).sum().item()\n",
        "    return 100 * correct / total\n",
        "\n",
        "# Simple Training loop\n",
        "def train(model, train_loader, optimizer, criterion, device, epoch):\n",
        "    model.train()\n",
        "\n",
        "    for images, labels in tqdm(train_loader, ncols=80,  desc=\"Epoch {}\".format(epoch)):\n",
        "        images, labels = images.to(device), labels.to(device)\n",
        "        optimizer.zero_grad()\n",
        "        outputs = model(images)\n",
        "        loss = criterion(outputs, labels)\n",
        "        loss.backward()\n",
        "        optimizer.step()\n",
        "\n",
        "def initialize_weights(module):\n",
        "    \"\"\"Initializes the weights of a PyTorch module using Xavier/Glorot initialization.\"\"\"\n",
        "    if isinstance(module, (nn.Linear, nn.Conv2d, nn.ConvTranspose2d)):  # Check for relevant layers\n",
        "        init.xavier_uniform_(module.weight) #Xavier uniform initialization\n",
        "        if module.bias is not None:\n",
        "            init.zeros_(module.bias)  # Initialize bias to zero\n",
        "    elif isinstance(module, (nn.BatchNorm2d, nn.LayerNorm, nn.GroupNorm)): #Initialize normalization layers\n",
        "        if module.weight is not None:\n",
        "            init.ones_(module.weight)\n",
        "        if module.bias is not None:\n",
        "            init.zeros_(module.bias)\n",
        "\n",
        "\n",
        "# Main training loop for incremental learning\n",
        "def incremental_learning(model, train_dataset, train_target, test_dataset, test_target,\n",
        "                         num_tasks, classes_per_task, batch_size, num_epochs, lr, device):\n",
        "    nclasses = len(np.unique(train_target))\n",
        "    all_classes = list(range(nclasses))\n",
        "    criterion = nn.CrossEntropyLoss()\n",
        "    current_classes = []\n",
        "    accuracies = []\n",
        "\n",
        "    for task in range(num_tasks):\n",
        "        task_classes = all_classes[task * classes_per_task : (task + 1) * classes_per_task]\n",
        "        current_classes.extend(task_classes)\n",
        "\n",
        "        train_loader = create_dataloader(train_dataset, train_target, task_classes, batch_size, shuffle = True)\n",
        "        test_loader = create_dataloader(test_dataset, test_target, current_classes, batch_size, shuffle = False)\n",
        "\n",
        "        if task == 0:\n",
        "            model.fc = nn.Linear(model.fc.in_features, len(current_classes)).to(device)\n",
        "        else:\n",
        "            # Expand the output layer for new classes\n",
        "            old_weight = model.fc.weight.data\n",
        "            old_bias = model.fc.bias.data\n",
        "            model.fc = nn.Linear(model.fc.in_features, len(current_classes)).to(device)\n",
        "            model.fc.weight.data[:len(old_weight)] = old_weight\n",
        "            model.fc.bias.data[:len(old_bias)] = old_bias\n",
        "\n",
        "        optimizer = optim.SGD(model.parameters(), lr=lr, momentum=0.9, weight_decay=5e-4)\n",
        "        optimizer = torch.optim.Adam(model.parameters(), lr=lr)\n",
        "        scheduler = lr_scheduler.StepLR(optimizer, step_size=5, gamma=0.5)\n",
        "\n",
        "        print(f\"Starting Task {task+1} - Training on classes: {task_classes}\")\n",
        "        for epoch in range(num_epochs): # Adjust number of epochs as needed\n",
        "            train(model, train_loader, optimizer, criterion, device, epoch)\n",
        "            scheduler.step()\n",
        "            accuracy = evaluate(model, train_loader, device)\n",
        "            print(f\"Task {task+1}, Epoch {epoch+1}: Accuracy Train = {accuracy:.2f}%\")\n",
        "        accuracy = evaluate(model, test_loader, device)\n",
        "        accuracies.append(accuracy)\n",
        "        print(f\"Task {task+1}: Accuracy Test = {accuracy:.2f}%\")\n",
        "\n",
        "    return accuracies\n",
        "\n"
      ]
    },
    {
      "cell_type": "markdown",
      "source": [
        "## Weight & Biases\n",
        "\n",
        "You can use this environement to log your learning.\n",
        "\n",
        "The code below provides a version of the class incremental function that stores learning curves and the seauence of accuracies for each increment of classes.\n",
        "\n",
        "Tu use it, create an account at: https://wandb.ai/"
      ],
      "metadata": {
        "id": "Uio21fDojgTD"
      }
    },
    {
      "cell_type": "code",
      "execution_count": 12,
      "metadata": {
        "colab": {
          "base_uri": "https://localhost:8080/",
          "height": 187
        },
        "id": "B98gHkBTHUbX",
        "outputId": "18ee47ed-edcb-4431-de49-b18a2c92cb3f"
      },
      "outputs": [
        {
          "output_type": "stream",
          "name": "stdout",
          "text": [
            "\u001b[2K   \u001b[90m━━━━━━━━━━━━━━━━━━━━━━━━━━━━━━━━━━━━━━━━\u001b[0m \u001b[32m20.3/20.3 MB\u001b[0m \u001b[31m64.1 MB/s\u001b[0m eta \u001b[36m0:00:00\u001b[0m\n",
            "\u001b[?25h"
          ]
        },
        {
          "output_type": "display_data",
          "data": {
            "text/plain": [
              "<IPython.core.display.Javascript object>"
            ],
            "application/javascript": [
              "\n",
              "        window._wandbApiKey = new Promise((resolve, reject) => {\n",
              "            function loadScript(url) {\n",
              "            return new Promise(function(resolve, reject) {\n",
              "                let newScript = document.createElement(\"script\");\n",
              "                newScript.onerror = reject;\n",
              "                newScript.onload = resolve;\n",
              "                document.body.appendChild(newScript);\n",
              "                newScript.src = url;\n",
              "            });\n",
              "            }\n",
              "            loadScript(\"https://cdn.jsdelivr.net/npm/postmate/build/postmate.min.js\").then(() => {\n",
              "            const iframe = document.createElement('iframe')\n",
              "            iframe.style.cssText = \"width:0;height:0;border:none\"\n",
              "            document.body.appendChild(iframe)\n",
              "            const handshake = new Postmate({\n",
              "                container: iframe,\n",
              "                url: 'https://wandb.ai/authorize'\n",
              "            });\n",
              "            const timeout = setTimeout(() => reject(\"Couldn't auto authenticate\"), 5000)\n",
              "            handshake.then(function(child) {\n",
              "                child.on('authorize', data => {\n",
              "                    clearTimeout(timeout)\n",
              "                    resolve(data)\n",
              "                });\n",
              "            });\n",
              "            })\n",
              "        });\n",
              "    "
            ]
          },
          "metadata": {}
        },
        {
          "output_type": "stream",
          "name": "stderr",
          "text": [
            "\u001b[34m\u001b[1mwandb\u001b[0m: Logging into wandb.ai. (Learn how to deploy a W&B server locally: https://wandb.me/wandb-server)\n",
            "\u001b[34m\u001b[1mwandb\u001b[0m: You can find your API key in your browser here: https://wandb.ai/authorize\n",
            "wandb: Paste an API key from your profile and hit enter, or press ctrl+c to quit:"
          ]
        },
        {
          "name": "stdout",
          "output_type": "stream",
          "text": [
            " ··········\n"
          ]
        },
        {
          "output_type": "stream",
          "name": "stderr",
          "text": [
            "\u001b[34m\u001b[1mwandb\u001b[0m: Appending key for api.wandb.ai to your netrc file: /root/.netrc\n"
          ]
        },
        {
          "output_type": "execute_result",
          "data": {
            "text/plain": [
              "True"
            ]
          },
          "metadata": {},
          "execution_count": 12
        }
      ],
      "source": [
        "###################################\n",
        "##### For using Weight & Biases\n",
        "###############\n",
        "\n",
        "!pip install wandb -qU\n",
        "\n",
        "import wandb\n",
        "\n",
        "wandb.login()\n"
      ]
    },
    {
      "cell_type": "code",
      "execution_count": 13,
      "metadata": {
        "id": "AC_ixhkpOFZj"
      },
      "outputs": [],
      "source": [
        "import math\n",
        "# Simple Training loop\n",
        "def train_wandb(model, train_loader, optimizer, criterion, device, epoch):\n",
        "\n",
        "    step_ct = 0\n",
        "    n_steps_per_epoch = math.ceil(len(train_loader.dataset) / train_loader.batch_size)\n",
        "\n",
        "    model.train()\n",
        "\n",
        "    for step, (images, labels) in tqdm(enumerate(train_loader), ncols=80,  desc=\"Epoch {}\".format(epoch)):\n",
        "        images, labels = images.to(device), labels.to(device)\n",
        "        optimizer.zero_grad()\n",
        "        outputs = model(images)\n",
        "        loss = criterion(outputs, labels)\n",
        "        loss.backward()\n",
        "        optimizer.step()\n",
        "\n",
        "        metrics = {\"train/train_loss\": loss}\n",
        "        # metrics = {\"train/train_loss\": loss,\n",
        "        #             \"train/epoch\": (step + 1 + (n_steps_per_epoch * epoch)) / n_steps_per_epoch}\n",
        "\n",
        "        if step + 1 < n_steps_per_epoch:\n",
        "          # Log train metrics to wandb\n",
        "          wandb.log(metrics)\n",
        "        step_ct += 1\n",
        "\n",
        "\n",
        "# Main training loop for incremental learning\n",
        "def incremental_learning_wandb(model, train_dataset, train_target, test_dataset, test_target,\n",
        "                         num_tasks, classes_per_task, batch_size, num_epochs, lr, device, non_incremental = False):\n",
        "    nclasses = len(np.unique(train_target))\n",
        "    all_classes = list(range(nclasses))\n",
        "    criterion = nn.CrossEntropyLoss()\n",
        "    current_classes = []\n",
        "    accuracies = []\n",
        "\n",
        "    # Copy your config\n",
        "    config = wandb.config\n",
        "\n",
        "    wandb.define_metric(\"task\")\n",
        "    wandb.define_metric(\"incremental_accuracy\", step_metric=\"task\")\n",
        "\n",
        "    for task in range(num_tasks):\n",
        "        if non_incremental == True: # Learn from all available data\n",
        "          task_classes = all_classes[0 : (task + 1) * classes_per_task]\n",
        "          current_classes = task_classes\n",
        "          # model.apply(initialize_weights)\n",
        "        else:\n",
        "          task_classes = all_classes[task * classes_per_task : (task + 1) * classes_per_task]\n",
        "          current_classes.extend(task_classes)\n",
        "\n",
        "        train_loader = create_dataloader(train_dataset, train_target, task_classes, batch_size, shuffle = True)\n",
        "        test_loader = create_dataloader(test_dataset, test_target, current_classes, batch_size, shuffle = False)\n",
        "\n",
        "        if task == 0 or non_incremental == True:\n",
        "            model.fc = nn.Linear(model.fc.in_features, len(current_classes)).to(device)\n",
        "        else:\n",
        "            # Expand the output layer for new classes\n",
        "            old_weight = model.fc.weight.data\n",
        "            old_bias = model.fc.bias.data\n",
        "            model.fc = nn.Linear(model.fc.in_features, len(current_classes)).to(device)\n",
        "            model.fc.weight.data[:len(old_weight)] = old_weight\n",
        "            model.fc.bias.data[:len(old_bias)] = old_bias\n",
        "\n",
        "        optimizer = optim.SGD(model.parameters(), lr=lr, momentum=0.9, weight_decay=5e-4)\n",
        "        optimizer = torch.optim.Adam(model.parameters(), lr=lr)\n",
        "        scheduler = lr_scheduler.StepLR(optimizer, step_size=5, gamma=0.5)\n",
        "\n",
        "        print(f\"Starting Task {task+1} - Training on classes: {task_classes}\")\n",
        "        for epoch in range(num_epochs): # Adjust number of epochs\n",
        "            #train(model, train_loader, optimizer, criterion, device, epoch)\n",
        "\n",
        "            # If logging training (but not incremental)\n",
        "            train_wandb(model, train_loader, optimizer, criterion, device, epoch)\n",
        "\n",
        "            scheduler.step()\n",
        "            accuracy = evaluate(model, train_loader, device)\n",
        "            print(f\"Task {task+1}, Epoch {epoch+1}: Accuracy Train = {accuracy:.2f}%\")\n",
        "\n",
        "            val_metrics = {\"val/val_accuracy\": accuracy}\n",
        "            #wandb.log({**val_metrics})\n",
        "\n",
        "        accuracy = evaluate(model, test_loader, device)\n",
        "        accuracies.append(accuracy)\n",
        "        print(f\"Task {task+1}: Accuracy Test = {accuracy:.2f}%\")\n",
        "\n",
        "        incremental_metrics = {\"incremental_accuracy\": accuracy, \"task\": task}\n",
        "        wandb.log({**incremental_metrics})\n",
        "\n",
        "        # Log train and validation metrics to wandb\n",
        "\n",
        "    return accuracies\n",
        "\n"
      ]
    },
    {
      "cell_type": "markdown",
      "source": [
        "## Pre-Training"
      ],
      "metadata": {
        "id": "bAaNngOPM0Sq"
      }
    },
    {
      "cell_type": "code",
      "source": [
        "# Hyperparameters\n",
        "root_dir = './data'  # Path to GTSRB dataset\n",
        "num_tasks = 5\n",
        "numclasses = len(np.unique(train_target))\n",
        "classes_per_task = numclasses // num_tasks #43/2 ~ 20\n",
        "batch_size = 64\n",
        "lr = 1e-3\n",
        "device = torch.device(\"cuda\" if torch.cuda.is_available() else \"cpu\")\n",
        "\n",
        "buffer_size = 200 # Adjust rehearsal set size\n",
        "alignment_strength = 0.1 # Adjust alignment strength\n",
        "num_epochs = 4\n",
        "\n",
        "#model = SimpleCNN(n_out = 1, n_in = 3).to(device)\n",
        "#model.apply(initialize_weights)\n",
        "\n",
        "# The name of the network (choose the on you want)\n",
        "tag = \"simpleCNN_GTSRB_pretrained\"\n",
        "netname = os.path.join(root_dir, 'network_{:s}.pth'.format(tag))\n",
        "\n",
        "#################################################\n",
        "## Pre-training\n",
        "####\n",
        "\n",
        "# Read the last learned network (if stored)\n",
        "if (os.path.exists(netname)):\n",
        "    print('Load pre-trained network')\n",
        "    model = SimpleCNN(n_in = 3, n_out=classes_per_task)\n",
        "    model.load_state_dict(torch.load(netname,weights_only=True))\n",
        "\n",
        "    #model = torch.load(netname, weights_only=True)\n",
        "    model = model.to(device)\n",
        "else:\n",
        "    print('Pretrain')\n",
        "    model = SimpleCNN(n_in = 3, n_out=1)\n",
        "    model.apply(initialize_weights)\n",
        "    model.to(device)\n",
        "\n",
        "    accu = incremental_learning(model, train_dataset, train_target, test_dataset, test_target,\n",
        "                        1, classes_per_task, batch_size, num_epochs, lr, device)\n",
        "\n",
        "    print(f\"!!!!! Pre-training on first task  = {accu[0]:.2f}%\")\n",
        "\n",
        "    # Save last learned model\n",
        "    #torch.save(model, netname)\n",
        "    torch.save(model.state_dict(), netname)\n",
        "\n",
        "## Copy model to have the same initialization\n",
        "copy_model = copy.deepcopy(model) # Copy model to start from the same initialization\n",
        "\n",
        "#### Learn with a single epoch in incremental (faster but less accurate)\n",
        "num_epochs = 1\n"
      ],
      "metadata": {
        "colab": {
          "base_uri": "https://localhost:8080/"
        },
        "id": "VgJ8qN2tNDLh",
        "outputId": "d71c36b2-e53b-41a4-db3f-7b0deee841db"
      },
      "execution_count": 14,
      "outputs": [
        {
          "output_type": "stream",
          "name": "stdout",
          "text": [
            "Pretrain\n",
            "Starting Task 1 - Training on classes: [0, 1, 2, 3, 4, 5, 6, 7]\n"
          ]
        },
        {
          "output_type": "stream",
          "name": "stderr",
          "text": [
            "Epoch 0: 100%|████████████████████████████████| 125/125 [00:08<00:00, 14.27it/s]\n",
            "100%|█████████████████████████████████████████| 125/125 [00:09<00:00, 13.41it/s]\n"
          ]
        },
        {
          "output_type": "stream",
          "name": "stdout",
          "text": [
            "Task 1, Epoch 1: Accuracy Train = 61.27%\n"
          ]
        },
        {
          "output_type": "stream",
          "name": "stderr",
          "text": [
            "Epoch 1: 100%|████████████████████████████████| 125/125 [00:03<00:00, 31.89it/s]\n",
            "100%|█████████████████████████████████████████| 125/125 [00:03<00:00, 33.91it/s]\n"
          ]
        },
        {
          "output_type": "stream",
          "name": "stdout",
          "text": [
            "Task 1, Epoch 2: Accuracy Train = 88.03%\n"
          ]
        },
        {
          "output_type": "stream",
          "name": "stderr",
          "text": [
            "Epoch 2: 100%|████████████████████████████████| 125/125 [00:04<00:00, 27.12it/s]\n",
            "100%|█████████████████████████████████████████| 125/125 [00:03<00:00, 33.76it/s]\n"
          ]
        },
        {
          "output_type": "stream",
          "name": "stdout",
          "text": [
            "Task 1, Epoch 3: Accuracy Train = 95.71%\n"
          ]
        },
        {
          "output_type": "stream",
          "name": "stderr",
          "text": [
            "Epoch 3: 100%|████████████████████████████████| 125/125 [00:03<00:00, 32.50it/s]\n",
            "100%|█████████████████████████████████████████| 125/125 [00:04<00:00, 28.01it/s]\n"
          ]
        },
        {
          "output_type": "stream",
          "name": "stdout",
          "text": [
            "Task 1, Epoch 4: Accuracy Train = 97.42%\n"
          ]
        },
        {
          "output_type": "stream",
          "name": "stderr",
          "text": [
            "100%|███████████████████████████████████████████| 61/61 [00:01<00:00, 32.80it/s]"
          ]
        },
        {
          "output_type": "stream",
          "name": "stdout",
          "text": [
            "Task 1: Accuracy Test = 85.89%\n",
            "!!!!! Pre-training on first task  = 85.89%\n"
          ]
        },
        {
          "output_type": "stream",
          "name": "stderr",
          "text": [
            "\n"
          ]
        }
      ]
    },
    {
      "cell_type": "markdown",
      "source": [
        "## Fine tuning"
      ],
      "metadata": {
        "id": "93lWmMn2Nnnw"
      }
    },
    {
      "cell_type": "code",
      "source": [
        "#############################################\n",
        "## Fine tuning\n",
        "####\n",
        "# initialise a wandb run\n",
        "run = wandb.init(\n",
        "    project=\"GTSRB-CIL\",\n",
        "    name = \"Fine tuning\",\n",
        "    config={\n",
        "        \"epochs\": num_epochs,\n",
        "        \"batch_size\": batch_size,\n",
        "        \"num_tasks\": num_tasks,\n",
        "        \"classes_per_task\": classes_per_task,\n",
        "        \"lr\": lr,\n",
        "        })\n",
        "\n",
        "# Simple Incremental Fine Tuning\n",
        "model = copy.deepcopy(copy_model)\n",
        "incremental_learning_wandb(model, train_dataset, train_target, test_dataset, test_target,\n",
        "                      num_tasks, classes_per_task, batch_size, num_epochs, lr, device)\n",
        "wandb.finish()\n"
      ],
      "metadata": {
        "id": "Tla2raJ7Nn_o",
        "colab": {
          "base_uri": "https://localhost:8080/",
          "height": 1000
        },
        "outputId": "faaa3980-58c7-4e3c-c6d7-12408e7b3f59"
      },
      "execution_count": 15,
      "outputs": [
        {
          "output_type": "stream",
          "name": "stderr",
          "text": [
            "\u001b[34m\u001b[1mwandb\u001b[0m: Currently logged in as: \u001b[33m605327743\u001b[0m (\u001b[33m605327743-ensta-paris\u001b[0m). Use \u001b[1m`wandb login --relogin`\u001b[0m to force relogin\n",
            "\u001b[34m\u001b[1mwandb\u001b[0m: Using wandb-core as the SDK backend.  Please refer to https://wandb.me/wandb-core for more information.\n"
          ]
        },
        {
          "output_type": "display_data",
          "data": {
            "text/plain": [
              "<IPython.core.display.HTML object>"
            ],
            "text/html": [
              "Tracking run with wandb version 0.19.2"
            ]
          },
          "metadata": {}
        },
        {
          "output_type": "display_data",
          "data": {
            "text/plain": [
              "<IPython.core.display.HTML object>"
            ],
            "text/html": [
              "Run data is saved locally in <code>/content/wandb/run-20250108_213404-craff9wo</code>"
            ]
          },
          "metadata": {}
        },
        {
          "output_type": "display_data",
          "data": {
            "text/plain": [
              "<IPython.core.display.HTML object>"
            ],
            "text/html": [
              "Syncing run <strong><a href='https://wandb.ai/605327743-ensta-paris/GTSRB-CIL/runs/craff9wo' target=\"_blank\">Fine tuning</a></strong> to <a href='https://wandb.ai/605327743-ensta-paris/GTSRB-CIL' target=\"_blank\">Weights & Biases</a> (<a href='https://wandb.me/developer-guide' target=\"_blank\">docs</a>)<br>"
            ]
          },
          "metadata": {}
        },
        {
          "output_type": "display_data",
          "data": {
            "text/plain": [
              "<IPython.core.display.HTML object>"
            ],
            "text/html": [
              " View project at <a href='https://wandb.ai/605327743-ensta-paris/GTSRB-CIL' target=\"_blank\">https://wandb.ai/605327743-ensta-paris/GTSRB-CIL</a>"
            ]
          },
          "metadata": {}
        },
        {
          "output_type": "display_data",
          "data": {
            "text/plain": [
              "<IPython.core.display.HTML object>"
            ],
            "text/html": [
              " View run at <a href='https://wandb.ai/605327743-ensta-paris/GTSRB-CIL/runs/craff9wo' target=\"_blank\">https://wandb.ai/605327743-ensta-paris/GTSRB-CIL/runs/craff9wo</a>"
            ]
          },
          "metadata": {}
        },
        {
          "output_type": "stream",
          "name": "stdout",
          "text": [
            "Starting Task 1 - Training on classes: [0, 1, 2, 3, 4, 5, 6, 7]\n"
          ]
        },
        {
          "output_type": "stream",
          "name": "stderr",
          "text": [
            "Epoch 0: 125it [00:11, 11.30it/s]\n",
            "100%|█████████████████████████████████████████| 125/125 [00:06<00:00, 20.23it/s]\n"
          ]
        },
        {
          "output_type": "stream",
          "name": "stdout",
          "text": [
            "Task 1, Epoch 1: Accuracy Train = 96.14%\n"
          ]
        },
        {
          "output_type": "stream",
          "name": "stderr",
          "text": [
            "100%|███████████████████████████████████████████| 61/61 [00:01<00:00, 32.47it/s]\n"
          ]
        },
        {
          "output_type": "stream",
          "name": "stdout",
          "text": [
            "Task 1: Accuracy Test = 88.84%\n",
            "Starting Task 2 - Training on classes: [8, 9, 10, 11, 12, 13, 14, 15]\n"
          ]
        },
        {
          "output_type": "stream",
          "name": "stderr",
          "text": [
            "Epoch 0: 126it [00:05, 24.50it/s]\n",
            "100%|█████████████████████████████████████████| 126/126 [00:04<00:00, 31.22it/s]\n"
          ]
        },
        {
          "output_type": "stream",
          "name": "stdout",
          "text": [
            "Task 2, Epoch 1: Accuracy Train = 99.41%\n"
          ]
        },
        {
          "output_type": "stream",
          "name": "stderr",
          "text": [
            "100%|█████████████████████████████████████████| 122/122 [00:03<00:00, 33.19it/s]\n"
          ]
        },
        {
          "output_type": "stream",
          "name": "stdout",
          "text": [
            "Task 2: Accuracy Test = 48.62%\n",
            "Starting Task 3 - Training on classes: [16, 17, 18, 19, 20, 21, 22, 23]\n"
          ]
        },
        {
          "output_type": "stream",
          "name": "stderr",
          "text": [
            "Epoch 0: 49it [00:02, 22.27it/s]\n",
            "100%|███████████████████████████████████████████| 49/49 [00:01<00:00, 25.93it/s]\n"
          ]
        },
        {
          "output_type": "stream",
          "name": "stdout",
          "text": [
            "Task 3, Epoch 1: Accuracy Train = 96.60%\n"
          ]
        },
        {
          "output_type": "stream",
          "name": "stderr",
          "text": [
            "100%|█████████████████████████████████████████| 144/144 [00:04<00:00, 33.42it/s]\n"
          ]
        },
        {
          "output_type": "stream",
          "name": "stdout",
          "text": [
            "Task 3: Accuracy Test = 12.07%\n",
            "Starting Task 4 - Training on classes: [24, 25, 26, 27, 28, 29, 30, 31]\n"
          ]
        },
        {
          "output_type": "stream",
          "name": "stderr",
          "text": [
            "Epoch 0: 50it [00:01, 27.95it/s]\n",
            "100%|███████████████████████████████████████████| 50/50 [00:01<00:00, 32.36it/s]\n"
          ]
        },
        {
          "output_type": "stream",
          "name": "stdout",
          "text": [
            "Task 4, Epoch 1: Accuracy Train = 81.16%\n"
          ]
        },
        {
          "output_type": "stream",
          "name": "stderr",
          "text": [
            "100%|█████████████████████████████████████████| 167/167 [00:05<00:00, 27.90it/s]\n"
          ]
        },
        {
          "output_type": "stream",
          "name": "stdout",
          "text": [
            "Task 4: Accuracy Test = 9.55%\n",
            "Starting Task 5 - Training on classes: [32, 33, 34, 35, 36, 37, 38, 39]\n"
          ]
        },
        {
          "output_type": "stream",
          "name": "stderr",
          "text": [
            "Epoch 0: 60it [00:02, 28.06it/s]\n",
            "100%|███████████████████████████████████████████| 60/60 [00:01<00:00, 33.77it/s]\n"
          ]
        },
        {
          "output_type": "stream",
          "name": "stdout",
          "text": [
            "Task 5, Epoch 1: Accuracy Train = 98.02%\n"
          ]
        },
        {
          "output_type": "stream",
          "name": "stderr",
          "text": [
            "100%|█████████████████████████████████████████| 194/194 [00:06<00:00, 31.71it/s]"
          ]
        },
        {
          "output_type": "stream",
          "name": "stdout",
          "text": [
            "Task 5: Accuracy Test = 12.82%\n"
          ]
        },
        {
          "output_type": "stream",
          "name": "stderr",
          "text": [
            "\n"
          ]
        },
        {
          "output_type": "display_data",
          "data": {
            "text/plain": [
              "<IPython.core.display.HTML object>"
            ],
            "text/html": []
          },
          "metadata": {}
        },
        {
          "output_type": "display_data",
          "data": {
            "text/plain": [
              "<IPython.core.display.HTML object>"
            ],
            "text/html": [
              "<br>    <style><br>        .wandb-row {<br>            display: flex;<br>            flex-direction: row;<br>            flex-wrap: wrap;<br>            justify-content: flex-start;<br>            width: 100%;<br>        }<br>        .wandb-col {<br>            display: flex;<br>            flex-direction: column;<br>            flex-basis: 100%;<br>            flex: 1;<br>            padding: 10px;<br>        }<br>    </style><br><div class=\"wandb-row\"><div class=\"wandb-col\"><h3>Run history:</h3><br/><table class=\"wandb\"><tr><td>incremental_accuracy</td><td>█▄▁▁▁</td></tr><tr><td>task</td><td>▁▃▅▆█</td></tr><tr><td>train/train_loss</td><td>▅▂▂▂▁▁▁▁▃▂▁▁▁▁▁▁▁▁▁▁▁█▂▂▂▂▁▁▁▄▄▃▃▂▄▃▂▁▁▁</td></tr></table><br/></div><div class=\"wandb-col\"><h3>Run summary:</h3><br/><table class=\"wandb\"><tr><td>incremental_accuracy</td><td>12.81679</td></tr><tr><td>task</td><td>4</td></tr><tr><td>train/train_loss</td><td>0.12966</td></tr></table><br/></div></div>"
            ]
          },
          "metadata": {}
        },
        {
          "output_type": "display_data",
          "data": {
            "text/plain": [
              "<IPython.core.display.HTML object>"
            ],
            "text/html": [
              " View run <strong style=\"color:#cdcd00\">Fine tuning</strong> at: <a href='https://wandb.ai/605327743-ensta-paris/GTSRB-CIL/runs/craff9wo' target=\"_blank\">https://wandb.ai/605327743-ensta-paris/GTSRB-CIL/runs/craff9wo</a><br> View project at: <a href='https://wandb.ai/605327743-ensta-paris/GTSRB-CIL' target=\"_blank\">https://wandb.ai/605327743-ensta-paris/GTSRB-CIL</a><br>Synced 5 W&B file(s), 0 media file(s), 0 artifact file(s) and 0 other file(s)"
            ]
          },
          "metadata": {}
        },
        {
          "output_type": "display_data",
          "data": {
            "text/plain": [
              "<IPython.core.display.HTML object>"
            ],
            "text/html": [
              "Find logs at: <code>./wandb/run-20250108_213404-craff9wo/logs</code>"
            ]
          },
          "metadata": {}
        }
      ]
    },
    {
      "cell_type": "markdown",
      "source": [
        "## Upper bound"
      ],
      "metadata": {
        "id": "TfV4H_gQlJOg"
      }
    },
    {
      "cell_type": "code",
      "source": [
        "#################################################\n",
        "## Global upper bound (all data, all classes)\n",
        "####\n",
        "\n",
        "# One task + all classes computed using 5 epochs\n",
        "\n",
        "model = copy.deepcopy(copy_model)\n",
        "accu = incremental_learning(model, train_dataset, train_target, test_dataset, test_target,\n",
        "                      1, (numclasses // num_tasks) * num_tasks, batch_size, 5, lr, device)\n",
        "\n",
        "print(f\"!!!!! Upper bound of accuracy = {accu[0]:.2f}%\")\n",
        "\n"
      ],
      "metadata": {
        "id": "xs4duQSA3LY8",
        "colab": {
          "base_uri": "https://localhost:8080/"
        },
        "outputId": "b5b8b229-1085-4f79-d4ee-9a24b3fc0425"
      },
      "execution_count": 16,
      "outputs": [
        {
          "output_type": "stream",
          "name": "stdout",
          "text": [
            "Starting Task 1 - Training on classes: [0, 1, 2, 3, 4, 5, 6, 7, 8, 9, 10, 11, 12, 13, 14, 15, 16, 17, 18, 19, 20, 21, 22, 23, 24, 25, 26, 27, 28, 29, 30, 31, 32, 33, 34, 35, 36, 37, 38, 39]\n"
          ]
        },
        {
          "output_type": "stream",
          "name": "stderr",
          "text": [
            "Epoch 0: 100%|████████████████████████████████| 407/407 [00:13<00:00, 29.57it/s]\n",
            "100%|█████████████████████████████████████████| 407/407 [00:13<00:00, 31.16it/s]\n"
          ]
        },
        {
          "output_type": "stream",
          "name": "stdout",
          "text": [
            "Task 1, Epoch 1: Accuracy Train = 97.89%\n"
          ]
        },
        {
          "output_type": "stream",
          "name": "stderr",
          "text": [
            "Epoch 1: 100%|████████████████████████████████| 407/407 [00:15<00:00, 27.02it/s]\n",
            "100%|█████████████████████████████████████████| 407/407 [00:12<00:00, 31.43it/s]\n"
          ]
        },
        {
          "output_type": "stream",
          "name": "stdout",
          "text": [
            "Task 1, Epoch 2: Accuracy Train = 98.84%\n"
          ]
        },
        {
          "output_type": "stream",
          "name": "stderr",
          "text": [
            "Epoch 2: 100%|████████████████████████████████| 407/407 [00:13<00:00, 29.74it/s]\n",
            "100%|█████████████████████████████████████████| 407/407 [00:12<00:00, 31.60it/s]\n"
          ]
        },
        {
          "output_type": "stream",
          "name": "stdout",
          "text": [
            "Task 1, Epoch 3: Accuracy Train = 99.54%\n"
          ]
        },
        {
          "output_type": "stream",
          "name": "stderr",
          "text": [
            "Epoch 3: 100%|████████████████████████████████| 407/407 [00:13<00:00, 30.22it/s]\n",
            "100%|█████████████████████████████████████████| 407/407 [00:13<00:00, 30.76it/s]\n"
          ]
        },
        {
          "output_type": "stream",
          "name": "stdout",
          "text": [
            "Task 1, Epoch 4: Accuracy Train = 99.60%\n"
          ]
        },
        {
          "output_type": "stream",
          "name": "stderr",
          "text": [
            "Epoch 4: 100%|████████████████████████████████| 407/407 [00:14<00:00, 28.97it/s]\n",
            "100%|█████████████████████████████████████████| 407/407 [00:12<00:00, 31.46it/s]\n"
          ]
        },
        {
          "output_type": "stream",
          "name": "stdout",
          "text": [
            "Task 1, Epoch 5: Accuracy Train = 99.80%\n"
          ]
        },
        {
          "output_type": "stream",
          "name": "stderr",
          "text": [
            "100%|█████████████████████████████████████████| 194/194 [00:05<00:00, 33.63it/s]"
          ]
        },
        {
          "output_type": "stream",
          "name": "stdout",
          "text": [
            "Task 1: Accuracy Test = 90.23%\n",
            "!!!!! Upper bound of accuracy = 90.23%\n"
          ]
        },
        {
          "output_type": "stream",
          "name": "stderr",
          "text": [
            "\n"
          ]
        }
      ]
    },
    {
      "cell_type": "code",
      "source": [
        "########################################\n",
        "## Upper bound for each task (takes some time)\n",
        "####\n",
        "# initialise a wandb run\n",
        "run = wandb.init(\n",
        "    project=\"GTSRB-CIL\",\n",
        "    name = \"Upper bound\",\n",
        "    config={\n",
        "        \"epochs\": num_epochs,\n",
        "        \"batch_size\": batch_size,\n",
        "        \"num_tasks\": num_tasks,\n",
        "        \"classes_per_task\": classes_per_task,\n",
        "        \"lr\": lr,\n",
        "        })\n",
        "\n",
        "# Non incremental data (learn all classes from all data for each task)\n",
        "model = copy.deepcopy(copy_model)\n",
        "incremental_learning_wandb(model, train_dataset, train_target, test_dataset, test_target,\n",
        "                      num_tasks, classes_per_task, batch_size, num_epochs, lr, device, non_incremental = True)\n",
        "\n",
        "wandb.finish()"
      ],
      "metadata": {
        "id": "TQONaVy3MYRa",
        "colab": {
          "base_uri": "https://localhost:8080/",
          "height": 1000
        },
        "outputId": "01939306-b97d-4061-89f1-5d44ae47f7d3"
      },
      "execution_count": 17,
      "outputs": [
        {
          "output_type": "display_data",
          "data": {
            "text/plain": [
              "<IPython.core.display.HTML object>"
            ],
            "text/html": [
              "Tracking run with wandb version 0.19.2"
            ]
          },
          "metadata": {}
        },
        {
          "output_type": "display_data",
          "data": {
            "text/plain": [
              "<IPython.core.display.HTML object>"
            ],
            "text/html": [
              "Run data is saved locally in <code>/content/wandb/run-20250108_213730-aetfrpkf</code>"
            ]
          },
          "metadata": {}
        },
        {
          "output_type": "display_data",
          "data": {
            "text/plain": [
              "<IPython.core.display.HTML object>"
            ],
            "text/html": [
              "Syncing run <strong><a href='https://wandb.ai/605327743-ensta-paris/GTSRB-CIL/runs/aetfrpkf' target=\"_blank\">Upper bound</a></strong> to <a href='https://wandb.ai/605327743-ensta-paris/GTSRB-CIL' target=\"_blank\">Weights & Biases</a> (<a href='https://wandb.me/developer-guide' target=\"_blank\">docs</a>)<br>"
            ]
          },
          "metadata": {}
        },
        {
          "output_type": "display_data",
          "data": {
            "text/plain": [
              "<IPython.core.display.HTML object>"
            ],
            "text/html": [
              " View project at <a href='https://wandb.ai/605327743-ensta-paris/GTSRB-CIL' target=\"_blank\">https://wandb.ai/605327743-ensta-paris/GTSRB-CIL</a>"
            ]
          },
          "metadata": {}
        },
        {
          "output_type": "display_data",
          "data": {
            "text/plain": [
              "<IPython.core.display.HTML object>"
            ],
            "text/html": [
              " View run at <a href='https://wandb.ai/605327743-ensta-paris/GTSRB-CIL/runs/aetfrpkf' target=\"_blank\">https://wandb.ai/605327743-ensta-paris/GTSRB-CIL/runs/aetfrpkf</a>"
            ]
          },
          "metadata": {}
        },
        {
          "output_type": "stream",
          "name": "stdout",
          "text": [
            "Starting Task 1 - Training on classes: [0, 1, 2, 3, 4, 5, 6, 7]\n"
          ]
        },
        {
          "output_type": "stream",
          "name": "stderr",
          "text": [
            "Epoch 0: 125it [00:04, 28.34it/s]\n",
            "100%|█████████████████████████████████████████| 125/125 [00:03<00:00, 34.49it/s]\n"
          ]
        },
        {
          "output_type": "stream",
          "name": "stdout",
          "text": [
            "Task 1, Epoch 1: Accuracy Train = 96.10%\n"
          ]
        },
        {
          "output_type": "stream",
          "name": "stderr",
          "text": [
            "100%|███████████████████████████████████████████| 61/61 [00:01<00:00, 34.86it/s]\n"
          ]
        },
        {
          "output_type": "stream",
          "name": "stdout",
          "text": [
            "Task 1: Accuracy Test = 86.74%\n",
            "Starting Task 2 - Training on classes: [0, 1, 2, 3, 4, 5, 6, 7, 8, 9, 10, 11, 12, 13, 14, 15]\n"
          ]
        },
        {
          "output_type": "stream",
          "name": "stderr",
          "text": [
            "Epoch 0: 250it [00:09, 27.25it/s]\n",
            "100%|█████████████████████████████████████████| 250/250 [00:07<00:00, 31.54it/s]\n"
          ]
        },
        {
          "output_type": "stream",
          "name": "stdout",
          "text": [
            "Task 2, Epoch 1: Accuracy Train = 95.80%\n"
          ]
        },
        {
          "output_type": "stream",
          "name": "stderr",
          "text": [
            "100%|█████████████████████████████████████████| 122/122 [00:03<00:00, 31.43it/s]\n"
          ]
        },
        {
          "output_type": "stream",
          "name": "stdout",
          "text": [
            "Task 2: Accuracy Test = 88.84%\n",
            "Starting Task 3 - Training on classes: [0, 1, 2, 3, 4, 5, 6, 7, 8, 9, 10, 11, 12, 13, 14, 15, 16, 17, 18, 19, 20, 21, 22, 23]\n"
          ]
        },
        {
          "output_type": "stream",
          "name": "stderr",
          "text": [
            "Epoch 0: 299it [00:10, 27.65it/s]\n",
            "100%|█████████████████████████████████████████| 299/299 [00:08<00:00, 33.67it/s]\n"
          ]
        },
        {
          "output_type": "stream",
          "name": "stdout",
          "text": [
            "Task 3, Epoch 1: Accuracy Train = 98.77%\n"
          ]
        },
        {
          "output_type": "stream",
          "name": "stderr",
          "text": [
            "100%|█████████████████████████████████████████| 144/144 [00:05<00:00, 28.02it/s]\n"
          ]
        },
        {
          "output_type": "stream",
          "name": "stdout",
          "text": [
            "Task 3: Accuracy Test = 90.48%\n",
            "Starting Task 4 - Training on classes: [0, 1, 2, 3, 4, 5, 6, 7, 8, 9, 10, 11, 12, 13, 14, 15, 16, 17, 18, 19, 20, 21, 22, 23, 24, 25, 26, 27, 28, 29, 30, 31]\n"
          ]
        },
        {
          "output_type": "stream",
          "name": "stderr",
          "text": [
            "Epoch 0: 348it [00:12, 28.11it/s]\n",
            "100%|█████████████████████████████████████████| 348/348 [00:10<00:00, 32.97it/s]\n"
          ]
        },
        {
          "output_type": "stream",
          "name": "stdout",
          "text": [
            "Task 4, Epoch 1: Accuracy Train = 99.18%\n"
          ]
        },
        {
          "output_type": "stream",
          "name": "stderr",
          "text": [
            "100%|█████████████████████████████████████████| 167/167 [00:05<00:00, 29.51it/s]\n"
          ]
        },
        {
          "output_type": "stream",
          "name": "stdout",
          "text": [
            "Task 4: Accuracy Test = 89.10%\n",
            "Starting Task 5 - Training on classes: [0, 1, 2, 3, 4, 5, 6, 7, 8, 9, 10, 11, 12, 13, 14, 15, 16, 17, 18, 19, 20, 21, 22, 23, 24, 25, 26, 27, 28, 29, 30, 31, 32, 33, 34, 35, 36, 37, 38, 39]\n"
          ]
        },
        {
          "output_type": "stream",
          "name": "stderr",
          "text": [
            "Epoch 0: 407it [00:14, 28.22it/s]\n",
            "100%|█████████████████████████████████████████| 407/407 [00:16<00:00, 24.15it/s]\n"
          ]
        },
        {
          "output_type": "stream",
          "name": "stdout",
          "text": [
            "Task 5, Epoch 1: Accuracy Train = 98.89%\n"
          ]
        },
        {
          "output_type": "stream",
          "name": "stderr",
          "text": [
            "100%|█████████████████████████████████████████| 194/194 [00:11<00:00, 17.39it/s]"
          ]
        },
        {
          "output_type": "stream",
          "name": "stdout",
          "text": [
            "Task 5: Accuracy Test = 88.35%\n"
          ]
        },
        {
          "output_type": "stream",
          "name": "stderr",
          "text": [
            "\n"
          ]
        },
        {
          "output_type": "display_data",
          "data": {
            "text/plain": [
              "<IPython.core.display.HTML object>"
            ],
            "text/html": []
          },
          "metadata": {}
        },
        {
          "output_type": "display_data",
          "data": {
            "text/plain": [
              "<IPython.core.display.HTML object>"
            ],
            "text/html": [
              "<br>    <style><br>        .wandb-row {<br>            display: flex;<br>            flex-direction: row;<br>            flex-wrap: wrap;<br>            justify-content: flex-start;<br>            width: 100%;<br>        }<br>        .wandb-col {<br>            display: flex;<br>            flex-direction: column;<br>            flex-basis: 100%;<br>            flex: 1;<br>            padding: 10px;<br>        }<br>    </style><br><div class=\"wandb-row\"><div class=\"wandb-col\"><h3>Run history:</h3><br/><table class=\"wandb\"><tr><td>incremental_accuracy</td><td>▁▅█▅▄</td></tr><tr><td>task</td><td>▁▃▅▆█</td></tr><tr><td>train/train_loss</td><td>▅▄▃▂█▃▃▂▁▂▂▁▁▄▂▁▁▁▁▁▂▁▂▃▂▁▂▁▁▁▁▁▁▂▁▁▁▁▁▁</td></tr></table><br/></div><div class=\"wandb-col\"><h3>Run summary:</h3><br/><table class=\"wandb\"><tr><td>incremental_accuracy</td><td>88.34544</td></tr><tr><td>task</td><td>4</td></tr><tr><td>train/train_loss</td><td>0.09758</td></tr></table><br/></div></div>"
            ]
          },
          "metadata": {}
        },
        {
          "output_type": "display_data",
          "data": {
            "text/plain": [
              "<IPython.core.display.HTML object>"
            ],
            "text/html": [
              " View run <strong style=\"color:#cdcd00\">Upper bound</strong> at: <a href='https://wandb.ai/605327743-ensta-paris/GTSRB-CIL/runs/aetfrpkf' target=\"_blank\">https://wandb.ai/605327743-ensta-paris/GTSRB-CIL/runs/aetfrpkf</a><br> View project at: <a href='https://wandb.ai/605327743-ensta-paris/GTSRB-CIL' target=\"_blank\">https://wandb.ai/605327743-ensta-paris/GTSRB-CIL</a><br>Synced 5 W&B file(s), 0 media file(s), 0 artifact file(s) and 0 other file(s)"
            ]
          },
          "metadata": {}
        },
        {
          "output_type": "display_data",
          "data": {
            "text/plain": [
              "<IPython.core.display.HTML object>"
            ],
            "text/html": [
              "Find logs at: <code>./wandb/run-20250108_213730-aetfrpkf/logs</code>"
            ]
          },
          "metadata": {}
        }
      ]
    },
    {
      "cell_type": "markdown",
      "source": [
        "## Rehearsal+KD\n"
      ],
      "metadata": {
        "id": "NU9NgAxj9Lqv"
      }
    },
    {
      "cell_type": "code",
      "source": [
        "# import random\n",
        "# def incremental_learning_wandb_Rehearsal_KD(model, train_dataset, train_target, test_dataset, test_target,\n",
        "#                          num_tasks, classes_per_task, batch_size, num_epochs, lr, device, non_incremental=False,\n",
        "#                          buffer_size=200, alignment_strength=0.1):\n",
        "#     \"\"\"\n",
        "#     Main training loop for incremental learning with Weight & Biases logging and rehearsal.\n",
        "\n",
        "#     Args:\n",
        "#         model: The PyTorch model to train.\n",
        "#         train_dataset: The training dataset.\n",
        "#         train_target: The training dataset targets.\n",
        "#         test_dataset: The test dataset.\n",
        "#         test_target: The test dataset targets.\n",
        "#         num_tasks: The total number of tasks.\n",
        "#         classes_per_task: The number of classes per task.\n",
        "#         batch_size: The batch size for training.\n",
        "#         num_epochs: The number of epochs to train for each task.\n",
        "#         lr: The learning rate.\n",
        "#         device: The device to train on (e.g., 'cuda' or 'cpu').\n",
        "#         non_incremental: If True, train on all data for each task (upper bound).\n",
        "#         buffer_size: The size of the rehearsal buffer.\n",
        "#         alignment_strength: The strength of the alignment regularization.\n",
        "\n",
        "#     Returns:\n",
        "#         A list of accuracies for each task.\n",
        "#     \"\"\"\n",
        "\n",
        "#     nclasses = len(np.unique(train_target))\n",
        "#     all_classes = list(range(nclasses))\n",
        "#     criterion = nn.CrossEntropyLoss()\n",
        "#     current_classes = []\n",
        "#     accuracies = []\n",
        "\n",
        "#     # Copy your config\n",
        "#     config = wandb.config\n",
        "\n",
        "#     wandb.define_metric(\"task\")\n",
        "#     wandb.define_metric(\"incremental_accuracy\", step_metric=\"task\")\n",
        "\n",
        "#     replay_buffer = []  # Initialize the replay buffer\n",
        "#     old_params = {}  # Initialize old parameters for regularization\n",
        "\n",
        "#     for task in range(num_tasks):\n",
        "#         if non_incremental:  # Learn from all available data\n",
        "#             task_classes = all_classes[0: (task + 1) * classes_per_task]\n",
        "#             current_classes = task_classes\n",
        "#             # model.apply(initialize_weights)\n",
        "#         else:\n",
        "#             task_classes = all_classes[task * classes_per_task: (task + 1) * classes_per_task]\n",
        "#             current_classes.extend(task_classes)\n",
        "\n",
        "#         train_loader = create_dataloader(train_dataset, train_target, task_classes, batch_size, shuffle=True)\n",
        "#         test_loader = create_dataloader(test_dataset, test_target, current_classes, batch_size, shuffle=False)\n",
        "\n",
        "#         if task == 0 or non_incremental:\n",
        "#             model.fc = nn.Linear(model.fc.in_features, len(current_classes)).to(device)\n",
        "#         else:\n",
        "#             # Expand the output layer for new classes\n",
        "#             old_weight = model.fc.weight.data\n",
        "#             old_bias = model.fc.bias.data\n",
        "#             model.fc = nn.Linear(model.fc.in_features, len(current_classes)).to(device)\n",
        "#             model.fc.weight.data[:len(old_weight)] = old_weight\n",
        "#             model.fc.bias.data[:len(old_bias)] = old_bias\n",
        "\n",
        "#         optimizer = optim.SGD(model.parameters(), lr=lr, momentum=0.9, weight_decay=5e-4)\n",
        "#         optimizer = torch.optim.Adam(model.parameters(), lr=lr)\n",
        "#         scheduler = lr_scheduler.StepLR(optimizer, step_size=5, gamma=0.5)\n",
        "\n",
        "#         # Update replay buffer\n",
        "#         task_data_indices = [i for i, label in enumerate(train_target) if label in task_classes]\n",
        "#         task_data = [train_dataset[i] for i in task_data_indices]\n",
        "#         random.shuffle(task_data)  # Shuffle task data before adding to buffer\n",
        "#         replay_buffer.extend(task_data[:buffer_size // num_tasks])  # Add a portion of task data to buffer\n",
        "\n",
        "#         # Create rehearsal dataloader\n",
        "#         replay_loader = DataLoader(replay_buffer, batch_size=batch_size, shuffle=True)\n",
        "\n",
        "\n",
        "#         print(f\"Starting Task {task + 1} - Training on classes: {task_classes}\")\n",
        "#         for epoch in range(num_epochs):  # Adjust number of epochs\n",
        "#             # train(model, train_loader, optimizer, criterion, device, epoch)\n",
        "\n",
        "#             # If logging training (but not incremental)\n",
        "#             train_wandb(model, train_loader, optimizer, criterion, device, epoch)\n",
        "\n",
        "#             scheduler.step()\n",
        "#             accuracy = evaluate(model, train_loader, device)\n",
        "#             print(f\"Task {task + 1}, Epoch {epoch + 1}: Accuracy Train = {accuracy:.2f}%\")\n",
        "\n",
        "#             val_metrics = {\"val/val_accuracy\": accuracy}\n",
        "#             # wandb.log({**val_metrics})\n",
        "\n",
        "#             # Regularization with replay buffer\n",
        "#             if task > 0:\n",
        "#                 model.train()\n",
        "#                 for images, labels in replay_loader:\n",
        "#                     images, labels = images.to(device), labels.to(device)\n",
        "#                     optimizer.zero_grad()\n",
        "#                     outputs = model(images)\n",
        "#                     loss = criterion(outputs, labels)\n",
        "\n",
        "#                     # Alignment loss (EWC or other regularization techniques can be used here)\n",
        "#                     alignment_loss = 0\n",
        "#                     for n, p in model.named_parameters():\n",
        "#                         if n in old_params and p.size() == old_params[n].size():  # Check if parameter exists in old_params and has the same size\n",
        "#                             alignment_loss += alignment_strength * torch.sum((p - old_params[n]) ** 2)\n",
        "\n",
        "#                     total_loss = loss + alignment_loss\n",
        "#                     total_loss.backward()\n",
        "#                     optimizer.step()\n",
        "\n",
        "#         accuracy = evaluate(model, test_loader, device)\n",
        "#         accuracies.append(accuracy)\n",
        "#         print(f\"Task {task + 1}: Accuracy Test = {accuracy:.2f}%\")\n",
        "\n",
        "#         incremental_metrics = {\"incremental_accuracy\": accuracy, \"task\": task}\n",
        "#         wandb.log({**incremental_metrics})\n",
        "\n",
        "#         # Store the parameters for the next task's regularization\n",
        "#         old_params = {n: p.clone().detach() for n, p in model.named_parameters()}\n",
        "\n",
        "#     return accuracies"
      ],
      "metadata": {
        "id": "Xr_gDRqwjz3p"
      },
      "execution_count": 24,
      "outputs": []
    },
    {
      "cell_type": "code",
      "source": [
        "class MemoryBuffer:\n",
        "    def __init__(self, buffer_size):\n",
        "        self.buffer_size = buffer_size\n",
        "        self.examples = []  # 用于存储旧样本\n",
        "        self.labels = []    # 用于存储旧样本对应的标签\n",
        "\n",
        "    def add_samples(self, new_examples, new_labels):\n",
        "        # 将 Tensor 转换为列表后添加\n",
        "        new_examples = new_examples.tolist()  # Tensor 转为列表\n",
        "        new_labels = new_labels.tolist()      # Tensor 转为列表\n",
        "\n",
        "        combined_examples = self.examples + new_examples\n",
        "        combined_labels = self.labels + new_labels\n",
        "\n",
        "        # 如果缓冲区超出大小限制，则随机选择子集\n",
        "        if len(combined_examples) > self.buffer_size:\n",
        "            indices = np.random.choice(len(combined_examples), self.buffer_size, replace=False)\n",
        "            self.examples = [combined_examples[i] for i in indices]\n",
        "            self.labels = [combined_labels[i] for i in indices]\n",
        "        else:\n",
        "            self.examples = combined_examples\n",
        "            self.labels = combined_labels\n",
        "\n",
        "    def get_samples(self, batch_size):\n",
        "        # 从缓冲区中随机采样\n",
        "        indices = np.random.choice(len(self.examples), min(batch_size, len(self.examples)), replace=False)\n",
        "        # 返回列表形式的 Tensor\n",
        "        return (\n",
        "            [torch.tensor(self.examples[i]) for i in indices],  # 确保是 Tensor 列表\n",
        "            [self.labels[i] for i in indices]\n",
        "        )\n",
        "\n",
        "\n",
        "\n",
        "\n",
        "def incremental_learning_rehearsal_kd(model, train_dataset, train_target, test_dataset, test_target,\n",
        "                                      num_tasks, classes_per_task, batch_size, num_epochs, lr, device,\n",
        "                                      buffer_size, alignment_strength=0.1):  # Add alignment_strength\n",
        "    nclasses = len(np.unique(train_target))\n",
        "    all_classes = list(range(nclasses))\n",
        "    criterion_ce = nn.CrossEntropyLoss()  # Cross-entropy for main task\n",
        "    criterion_kd = nn.KLDivLoss(reduction='batchmean')  # KL Divergence for KD\n",
        "    buffer = MemoryBuffer(buffer_size)  # Initialize memory buffer\n",
        "    current_classes = []\n",
        "    accuracies = []\n",
        "\n",
        "    # Copy your config\n",
        "    config = wandb.config\n",
        "\n",
        "    wandb.define_metric(\"task\")\n",
        "    wandb.define_metric(\"incremental_accuracy\", step_metric=\"task\")\n",
        "\n",
        "    old_model = None  # For Knowledge Distillation\n",
        "\n",
        "    for task in range(num_tasks):\n",
        "        task_classes = all_classes[task * classes_per_task: (task + 1) * classes_per_task]\n",
        "        current_classes.extend(task_classes)\n",
        "\n",
        "        train_loader = create_dataloader(train_dataset, train_target, task_classes, batch_size, shuffle=True)\n",
        "        test_loader = create_dataloader(test_dataset, test_target, current_classes, batch_size, shuffle=False)\n",
        "\n",
        "        if task == 0:\n",
        "            model.fc = nn.Linear(model.fc.in_features, len(current_classes)).to(device)\n",
        "        else:\n",
        "            # Expand the output layer for new classes\n",
        "            old_weight = model.fc.weight.data\n",
        "            old_bias = model.fc.bias.data\n",
        "            model.fc = nn.Linear(model.fc.in_features, len(current_classes)).to(device)\n",
        "            model.fc.weight.data[:len(old_weight)] = old_weight\n",
        "            model.fc.bias.data[:len(old_bias)] = old_bias\n",
        "\n",
        "        optimizer = torch.optim.Adam(model.parameters(), lr=lr)\n",
        "        scheduler = lr_scheduler.StepLR(optimizer, step_size=5, gamma=0.5)\n",
        "\n",
        "        print(f\"Starting Task {task + 1} - Training on classes: {task_classes}\")\n",
        "\n",
        "        for epoch in range(num_epochs):\n",
        "            model.train()\n",
        "            for batch, (images, labels) in enumerate(train_loader):\n",
        "                images, labels = images.to(device), labels.to(device)\n",
        "\n",
        "                # Combine current task data with replayed data\n",
        "                if len(buffer.examples) > 0:\n",
        "                    replay_images, replay_labels = buffer.get_samples(batch_size // 2)\n",
        "                    replay_images = torch.stack(replay_images).to(device)\n",
        "                    replay_labels = torch.tensor(replay_labels).to(device)\n",
        "\n",
        "                    images = torch.cat((images, replay_images))\n",
        "                    labels = torch.cat((labels, replay_labels))\n",
        "\n",
        "                optimizer.zero_grad()\n",
        "                outputs = model(images)\n",
        "\n",
        "                # Cross-entropy loss for current task\n",
        "                loss_ce = criterion_ce(outputs, labels)\n",
        "\n",
        "                # Knowledge distillation loss\n",
        "                if old_model:\n",
        "                    with torch.no_grad():\n",
        "                        old_outputs = old_model(images)\n",
        "                        # 扩展旧模型输出到当前类别数\n",
        "                        padding_size = outputs.size(1) - old_outputs.size(1)\n",
        "                        if padding_size > 0:\n",
        "                            padding = torch.zeros((old_outputs.size(0), padding_size), device=device)\n",
        "                            old_outputs = torch.cat((old_outputs, padding), dim=1)\n",
        "\n",
        "                    loss_kd = criterion_kd(F.log_softmax(outputs, dim=1), F.softmax(old_outputs, dim=1))\n",
        "                else:\n",
        "                    loss_kd = 0\n",
        "\n",
        "\n",
        "                # Adjusted loss with alignment strength\n",
        "                loss = loss_ce + alignment_strength * loss_kd  # Use alignment_strength here\n",
        "                loss.backward()\n",
        "                optimizer.step()\n",
        "\n",
        "            scheduler.step()\n",
        "            accuracy = evaluate(model, train_loader, device)\n",
        "            print(f\"Task {task + 1}, Epoch {epoch + 1}: Accuracy Train = {accuracy:.2f}%\")\n",
        "\n",
        "        # Test accuracy\n",
        "        accuracy = evaluate(model, test_loader, device)\n",
        "        accuracies.append(accuracy)\n",
        "        print(f\"Task {task + 1}: Accuracy Test = {accuracy:.2f}%\")\n",
        "\n",
        "        incremental_metrics = {\"incremental_accuracy\": accuracy, \"task\": task}\n",
        "        wandb.log({**incremental_metrics})\n",
        "\n",
        "        # Update memory buffer\n",
        "        for images, labels in train_loader:\n",
        "            buffer.add_samples(images.cpu(), labels.cpu())\n",
        "\n",
        "        # Save current model for KD\n",
        "        old_model = copy.deepcopy(model)\n",
        "        old_model.eval()\n",
        "\n",
        "    return accuracies\n",
        "\n"
      ],
      "metadata": {
        "id": "WVUzWG-ECO65"
      },
      "execution_count": 36,
      "outputs": []
    },
    {
      "cell_type": "code",
      "source": [
        "# Initialise a wandb run\n",
        "run = wandb.init(\n",
        "    project=\"GTSRB-CIL\",\n",
        "    name=\"Rehearsal KD with Alignment Strength\",\n",
        "    config={\n",
        "        \"epochs\": num_epochs,\n",
        "        \"batch_size\": batch_size,\n",
        "        \"num_tasks\": num_tasks,\n",
        "        \"classes_per_task\": classes_per_task,\n",
        "        \"lr\": lr,\n",
        "        \"buffer_size\": buffer_size,\n",
        "        \"alignment_strength\": 0.1,  # Specify alignment strength\n",
        "    },\n",
        ")\n",
        "\n",
        "# Incremental learning with rehearsal and knowledge distillation\n",
        "model = copy.deepcopy(copy_model)\n",
        "accuracies = incremental_learning_rehearsal_kd(\n",
        "    model,\n",
        "    train_dataset,\n",
        "    train_target,\n",
        "    test_dataset,\n",
        "    test_target,\n",
        "    num_tasks,\n",
        "    classes_per_task,\n",
        "    batch_size,\n",
        "    num_epochs,\n",
        "    lr,\n",
        "    device,\n",
        "    buffer_size=200,  # Set buffer size for rehearsal\n",
        "    alignment_strength=0.1,  # Set alignment strength\n",
        ")\n",
        "\n",
        "wandb.finish()\n",
        "\n"
      ],
      "metadata": {
        "colab": {
          "base_uri": "https://localhost:8080/",
          "height": 960
        },
        "id": "ttOkLl8t-PQf",
        "outputId": "179773f4-fc1e-40e5-95a7-b894a804e112"
      },
      "execution_count": 37,
      "outputs": [
        {
          "output_type": "display_data",
          "data": {
            "text/plain": [
              "<IPython.core.display.HTML object>"
            ],
            "text/html": [
              "Tracking run with wandb version 0.19.2"
            ]
          },
          "metadata": {}
        },
        {
          "output_type": "display_data",
          "data": {
            "text/plain": [
              "<IPython.core.display.HTML object>"
            ],
            "text/html": [
              "Run data is saved locally in <code>/content/wandb/run-20250108_230254-grviu6z0</code>"
            ]
          },
          "metadata": {}
        },
        {
          "output_type": "display_data",
          "data": {
            "text/plain": [
              "<IPython.core.display.HTML object>"
            ],
            "text/html": [
              "Syncing run <strong><a href='https://wandb.ai/605327743-ensta-paris/GTSRB-CIL/runs/grviu6z0' target=\"_blank\">Rehearsal KD with Alignment Strength</a></strong> to <a href='https://wandb.ai/605327743-ensta-paris/GTSRB-CIL' target=\"_blank\">Weights & Biases</a> (<a href='https://wandb.me/developer-guide' target=\"_blank\">docs</a>)<br>"
            ]
          },
          "metadata": {}
        },
        {
          "output_type": "display_data",
          "data": {
            "text/plain": [
              "<IPython.core.display.HTML object>"
            ],
            "text/html": [
              " View project at <a href='https://wandb.ai/605327743-ensta-paris/GTSRB-CIL' target=\"_blank\">https://wandb.ai/605327743-ensta-paris/GTSRB-CIL</a>"
            ]
          },
          "metadata": {}
        },
        {
          "output_type": "display_data",
          "data": {
            "text/plain": [
              "<IPython.core.display.HTML object>"
            ],
            "text/html": [
              " View run at <a href='https://wandb.ai/605327743-ensta-paris/GTSRB-CIL/runs/grviu6z0' target=\"_blank\">https://wandb.ai/605327743-ensta-paris/GTSRB-CIL/runs/grviu6z0</a>"
            ]
          },
          "metadata": {}
        },
        {
          "output_type": "stream",
          "name": "stdout",
          "text": [
            "Starting Task 1 - Training on classes: [0, 1, 2, 3, 4, 5, 6, 7]\n"
          ]
        },
        {
          "output_type": "stream",
          "name": "stderr",
          "text": [
            "100%|█████████████████████████████████████████| 125/125 [00:03<00:00, 34.10it/s]\n"
          ]
        },
        {
          "output_type": "stream",
          "name": "stdout",
          "text": [
            "Task 1, Epoch 1: Accuracy Train = 92.68%\n"
          ]
        },
        {
          "output_type": "stream",
          "name": "stderr",
          "text": [
            "100%|███████████████████████████████████████████| 61/61 [00:01<00:00, 34.44it/s]\n"
          ]
        },
        {
          "output_type": "stream",
          "name": "stdout",
          "text": [
            "Task 1: Accuracy Test = 85.94%\n",
            "Starting Task 2 - Training on classes: [8, 9, 10, 11, 12, 13, 14, 15]\n"
          ]
        },
        {
          "output_type": "stream",
          "name": "stderr",
          "text": [
            "100%|█████████████████████████████████████████| 126/126 [00:04<00:00, 28.71it/s]\n"
          ]
        },
        {
          "output_type": "stream",
          "name": "stdout",
          "text": [
            "Task 2, Epoch 1: Accuracy Train = 98.89%\n"
          ]
        },
        {
          "output_type": "stream",
          "name": "stderr",
          "text": [
            "100%|█████████████████████████████████████████| 122/122 [00:03<00:00, 30.85it/s]\n"
          ]
        },
        {
          "output_type": "stream",
          "name": "stdout",
          "text": [
            "Task 2: Accuracy Test = 86.87%\n",
            "Starting Task 3 - Training on classes: [16, 17, 18, 19, 20, 21, 22, 23]\n"
          ]
        },
        {
          "output_type": "stream",
          "name": "stderr",
          "text": [
            "100%|███████████████████████████████████████████| 49/49 [00:01<00:00, 25.92it/s]\n"
          ]
        },
        {
          "output_type": "stream",
          "name": "stdout",
          "text": [
            "Task 3, Epoch 1: Accuracy Train = 99.10%\n"
          ]
        },
        {
          "output_type": "stream",
          "name": "stderr",
          "text": [
            "100%|█████████████████████████████████████████| 144/144 [00:04<00:00, 33.27it/s]\n"
          ]
        },
        {
          "output_type": "stream",
          "name": "stdout",
          "text": [
            "Task 3: Accuracy Test = 68.43%\n",
            "Starting Task 4 - Training on classes: [24, 25, 26, 27, 28, 29, 30, 31]\n"
          ]
        },
        {
          "output_type": "stream",
          "name": "stderr",
          "text": [
            "100%|███████████████████████████████████████████| 50/50 [00:01<00:00, 25.31it/s]\n"
          ]
        },
        {
          "output_type": "stream",
          "name": "stdout",
          "text": [
            "Task 4, Epoch 1: Accuracy Train = 98.24%\n"
          ]
        },
        {
          "output_type": "stream",
          "name": "stderr",
          "text": [
            "100%|█████████████████████████████████████████| 167/167 [00:05<00:00, 29.95it/s]\n"
          ]
        },
        {
          "output_type": "stream",
          "name": "stdout",
          "text": [
            "Task 4: Accuracy Test = 54.09%\n",
            "Starting Task 5 - Training on classes: [32, 33, 34, 35, 36, 37, 38, 39]\n"
          ]
        },
        {
          "output_type": "stream",
          "name": "stderr",
          "text": [
            "100%|███████████████████████████████████████████| 60/60 [00:01<00:00, 30.74it/s]\n"
          ]
        },
        {
          "output_type": "stream",
          "name": "stdout",
          "text": [
            "Task 5, Epoch 1: Accuracy Train = 99.71%\n"
          ]
        },
        {
          "output_type": "stream",
          "name": "stderr",
          "text": [
            "100%|█████████████████████████████████████████| 194/194 [00:06<00:00, 29.79it/s]\n"
          ]
        },
        {
          "output_type": "stream",
          "name": "stdout",
          "text": [
            "Task 5: Accuracy Test = 38.03%\n"
          ]
        },
        {
          "output_type": "display_data",
          "data": {
            "text/plain": [
              "<IPython.core.display.HTML object>"
            ],
            "text/html": []
          },
          "metadata": {}
        },
        {
          "output_type": "display_data",
          "data": {
            "text/plain": [
              "<IPython.core.display.HTML object>"
            ],
            "text/html": [
              "<br>    <style><br>        .wandb-row {<br>            display: flex;<br>            flex-direction: row;<br>            flex-wrap: wrap;<br>            justify-content: flex-start;<br>            width: 100%;<br>        }<br>        .wandb-col {<br>            display: flex;<br>            flex-direction: column;<br>            flex-basis: 100%;<br>            flex: 1;<br>            padding: 10px;<br>        }<br>    </style><br><div class=\"wandb-row\"><div class=\"wandb-col\"><h3>Run history:</h3><br/><table class=\"wandb\"><tr><td>incremental_accuracy</td><td>██▅▃▁</td></tr><tr><td>task</td><td>▁▃▅▆█</td></tr></table><br/></div><div class=\"wandb-col\"><h3>Run summary:</h3><br/><table class=\"wandb\"><tr><td>incremental_accuracy</td><td>38.03067</td></tr><tr><td>task</td><td>4</td></tr></table><br/></div></div>"
            ]
          },
          "metadata": {}
        },
        {
          "output_type": "display_data",
          "data": {
            "text/plain": [
              "<IPython.core.display.HTML object>"
            ],
            "text/html": [
              " View run <strong style=\"color:#cdcd00\">Rehearsal KD with Alignment Strength</strong> at: <a href='https://wandb.ai/605327743-ensta-paris/GTSRB-CIL/runs/grviu6z0' target=\"_blank\">https://wandb.ai/605327743-ensta-paris/GTSRB-CIL/runs/grviu6z0</a><br> View project at: <a href='https://wandb.ai/605327743-ensta-paris/GTSRB-CIL' target=\"_blank\">https://wandb.ai/605327743-ensta-paris/GTSRB-CIL</a><br>Synced 5 W&B file(s), 0 media file(s), 0 artifact file(s) and 0 other file(s)"
            ]
          },
          "metadata": {}
        },
        {
          "output_type": "display_data",
          "data": {
            "text/plain": [
              "<IPython.core.display.HTML object>"
            ],
            "text/html": [
              "Find logs at: <code>./wandb/run-20250108_230254-grviu6z0/logs</code>"
            ]
          },
          "metadata": {}
        }
      ]
    },
    {
      "cell_type": "markdown",
      "source": [
        "## DynamicNetwork\n"
      ],
      "metadata": {
        "id": "vMZM8gw0L5O3"
      }
    },
    {
      "cell_type": "code",
      "source": [
        "# Modified Fine Tuning with Dynamic Task Layers\n",
        "def incremental_learning_with_dynamic_layers(model, train_dataset, train_target, test_dataset, test_target,\n",
        "                                             num_tasks, classes_per_task, batch_size, num_epochs, lr, device):\n",
        "    criterion = nn.CrossEntropyLoss()\n",
        "    optimizer = torch.optim.Adam(filter(lambda p: p.requires_grad, model.parameters()), lr=lr)\n",
        "    scheduler = lr_scheduler.StepLR(optimizer, step_size=5, gamma=0.5)\n",
        "    accuracies = []\n",
        "\n",
        "    # 任务特定输出层的存储\n",
        "    task_specific_layers = nn.ModuleList([])\n",
        "\n",
        "    for task in range(num_tasks):\n",
        "        task_classes = list(range(task * classes_per_task, (task + 1) * classes_per_task))\n",
        "        train_loader = create_dataloader(train_dataset, train_target, task_classes, batch_size, shuffle=True)\n",
        "        test_loader = create_dataloader(test_dataset, test_target, task_classes, batch_size, shuffle=False)\n",
        "\n",
        "        # 为当前任务添加任务特定输出层\n",
        "        if task == 0:\n",
        "            task_specific_layers.append(nn.Linear(model.fc.in_features, classes_per_task).to(device))\n",
        "        else:\n",
        "            task_specific_layers.append(nn.Linear(model.fc.in_features, classes_per_task).to(device))\n",
        "\n",
        "        # 将任务特定输出层的参数加入优化器\n",
        "        optimizer.add_param_group({'params': task_specific_layers[task].parameters()})\n",
        "\n",
        "        print(f\"Starting Task {task + 1} - Training on classes: {task_classes}\")\n",
        "        for epoch in range(num_epochs):\n",
        "            model.train()\n",
        "            for images, labels in train_loader:\n",
        "                images, labels = images.to(device), labels.to(device)\n",
        "                optimizer.zero_grad()\n",
        "\n",
        "                # 使用共享特征提取器提取特征\n",
        "                shared_features = model.features(images)\n",
        "                shared_features = shared_features.view(shared_features.size(0), -1)\n",
        "\n",
        "                # 当前任务的输出\n",
        "                outputs = task_specific_layers[task](shared_features)\n",
        "\n",
        "                loss = criterion(outputs, labels)\n",
        "                loss.backward()\n",
        "                optimizer.step()\n",
        "\n",
        "            scheduler.step()\n",
        "            accuracy = evaluate_task(model, task_specific_layers[task], test_loader, device)\n",
        "            print(f\"Task {task + 1}, Epoch {epoch + 1}: Accuracy = {accuracy:.2f}%\")\n",
        "\n",
        "        # 测试全任务性能\n",
        "        task_accuracy = evaluate_task(model, task_specific_layers[task], test_loader, device)\n",
        "        accuracies.append(task_accuracy)\n",
        "        print(f\"Task {task + 1}: Accuracy Test = {task_accuracy:.2f}%\")\n",
        "\n",
        "    return accuracies\n",
        "\n"
      ],
      "metadata": {
        "id": "jw4a3tBH9Kc-"
      },
      "execution_count": null,
      "outputs": []
    },
    {
      "cell_type": "code",
      "source": [
        "# initialise a wandb run\n",
        "run = wandb.init(\n",
        "    project=\"GTSRB-CIL\",\n",
        "    name=\"Fine tuning with dynamic layers\",\n",
        "    config={\n",
        "        \"epochs\": num_epochs,\n",
        "        \"batch_size\": batch_size,\n",
        "        \"num_tasks\": num_tasks,\n",
        "        \"classes_per_task\": classes_per_task,\n",
        "        \"lr\": lr,\n",
        "    },\n",
        ")\n",
        "\n",
        "# Incremental learning with pre-trained model\n",
        "model = copy.deepcopy(copy_model)\n",
        "accuracies = incremental_learning_with_dynamic_layers(\n",
        "    model, train_dataset, train_target, test_dataset, test_target,\n",
        "    num_tasks, classes_per_task, batch_size, num_epochs, lr, device\n",
        ")\n",
        "\n",
        "wandb.finish()\n",
        "\n",
        "print(\"Final Accuracies:\", accuracies)\n"
      ],
      "metadata": {
        "id": "8iEgNc5GL-En"
      },
      "execution_count": null,
      "outputs": []
    },
    {
      "cell_type": "code",
      "source": [],
      "metadata": {
        "id": "HnL6SwzYNdt8"
      },
      "execution_count": null,
      "outputs": []
    }
  ],
  "metadata": {
    "accelerator": "GPU",
    "colab": {
      "gpuType": "T4",
      "provenance": [],
      "toc_visible": true
    },
    "kernelspec": {
      "display_name": "Python 3",
      "name": "python3"
    }
  },
  "nbformat": 4,
  "nbformat_minor": 0
}